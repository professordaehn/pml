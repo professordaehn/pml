{
  "nbformat": 4,
  "nbformat_minor": 0,
  "metadata": {
    "kernelspec": {
      "display_name": "Python 3",
      "language": "python",
      "name": "python3"
    },
    "language_info": {
      "codemirror_mode": {
        "name": "ipython",
        "version": 3
      },
      "file_extension": ".py",
      "mimetype": "text/x-python",
      "name": "python",
      "nbconvert_exporter": "python",
      "pygments_lexer": "ipython3",
      "version": "3.6.5"
    },
    "colab": {
      "name": "001.ipynb",
      "provenance": [],
      "toc_visible": true
    }
  },
  "cells": [
    {
      "cell_type": "markdown",
      "metadata": {
        "id": "oG_7h9S12E2d"
      },
      "source": [
        "## Problem 1.1 Functions\n",
        "\n",
        "implement following simple functions"
      ]
    },
    {
      "cell_type": "code",
      "metadata": {
        "id": "DebvLU8Q2E2f",
        "outputId": "c63503f5-863c-46a4-bd90-f05cf5455143",
        "colab": {
          "base_uri": "https://localhost:8080/",
          "height": 68
        }
      },
      "source": [
        "def square(x):\n",
        "    return x * x\n",
        "\n",
        "def times2(x):\n",
        "    return 2 * x\n",
        "\n",
        "def average(x1, x2, x3, x4, x5):\n",
        "    return (x1 + x2 + x3 + x4 + x5) / 5\n",
        "\n",
        "print(square(2))\n",
        "print(times2(2))\n",
        "print(average(1, 2, 3, 4, 5))\n"
      ],
      "execution_count": 1,
      "outputs": [
        {
          "output_type": "stream",
          "text": [
            "4\n",
            "4\n",
            "3.0\n"
          ],
          "name": "stdout"
        }
      ]
    }
  ]
}